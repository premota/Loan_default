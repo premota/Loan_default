{
 "cells": [
  {
   "cell_type": "markdown",
   "id": "4b695213-f4f7-4a2e-a181-1910a0d19293",
   "metadata": {},
   "source": [
    "# Import libraries"
   ]
  },
  {
   "cell_type": "code",
   "execution_count": 1,
   "id": "da8bb9ed-10b4-4f0d-a5ec-e802315de769",
   "metadata": {
    "tags": []
   },
   "outputs": [],
   "source": [
    "import pandas as pd\n",
    "import numpy as np\n",
    "import matplotlib.pyplot as plt\n",
    "import seaborn as sns"
   ]
  },
  {
   "cell_type": "markdown",
   "id": "4d23b5e5-ef8d-4c22-a5d2-3ae5a93c352e",
   "metadata": {},
   "source": [
    "# Load_data"
   ]
  },
  {
   "cell_type": "code",
   "execution_count": 2,
   "id": "4a915f97-b054-4205-a201-71a42ac8ac72",
   "metadata": {
    "tags": []
   },
   "outputs": [],
   "source": [
    "data = pd.read_csv(\"train.csv\")"
   ]
  },
  {
   "cell_type": "code",
   "execution_count": 3,
   "id": "98400a61-b9b5-488e-9e97-1744c75b0797",
   "metadata": {
    "tags": []
   },
   "outputs": [
    {
     "data": {
      "text/html": [
       "<div>\n",
       "<style scoped>\n",
       "    .dataframe tbody tr th:only-of-type {\n",
       "        vertical-align: middle;\n",
       "    }\n",
       "\n",
       "    .dataframe tbody tr th {\n",
       "        vertical-align: top;\n",
       "    }\n",
       "\n",
       "    .dataframe thead th {\n",
       "        text-align: right;\n",
       "    }\n",
       "</style>\n",
       "<table border=\"1\" class=\"dataframe\">\n",
       "  <thead>\n",
       "    <tr style=\"text-align: right;\">\n",
       "      <th></th>\n",
       "      <th>ID</th>\n",
       "      <th>Loan Amount</th>\n",
       "      <th>Funded Amount</th>\n",
       "      <th>Funded Amount Investor</th>\n",
       "      <th>Term</th>\n",
       "      <th>Batch Enrolled</th>\n",
       "      <th>Interest Rate</th>\n",
       "      <th>Grade</th>\n",
       "      <th>Sub Grade</th>\n",
       "      <th>Employment Duration</th>\n",
       "      <th>...</th>\n",
       "      <th>Recoveries</th>\n",
       "      <th>Collection Recovery Fee</th>\n",
       "      <th>Collection 12 months Medical</th>\n",
       "      <th>Application Type</th>\n",
       "      <th>Last week Pay</th>\n",
       "      <th>Accounts Delinquent</th>\n",
       "      <th>Total Collection Amount</th>\n",
       "      <th>Total Current Balance</th>\n",
       "      <th>Total Revolving Credit Limit</th>\n",
       "      <th>Loan Status</th>\n",
       "    </tr>\n",
       "  </thead>\n",
       "  <tbody>\n",
       "    <tr>\n",
       "      <th>0</th>\n",
       "      <td>65087372</td>\n",
       "      <td>10000</td>\n",
       "      <td>32236</td>\n",
       "      <td>12329.36286</td>\n",
       "      <td>59</td>\n",
       "      <td>BAT2522922</td>\n",
       "      <td>11.135007</td>\n",
       "      <td>B</td>\n",
       "      <td>C4</td>\n",
       "      <td>MORTGAGE</td>\n",
       "      <td>...</td>\n",
       "      <td>2.498291</td>\n",
       "      <td>0.793724</td>\n",
       "      <td>0</td>\n",
       "      <td>INDIVIDUAL</td>\n",
       "      <td>49</td>\n",
       "      <td>0</td>\n",
       "      <td>31</td>\n",
       "      <td>311301</td>\n",
       "      <td>6619</td>\n",
       "      <td>0</td>\n",
       "    </tr>\n",
       "    <tr>\n",
       "      <th>1</th>\n",
       "      <td>1450153</td>\n",
       "      <td>3609</td>\n",
       "      <td>11940</td>\n",
       "      <td>12191.99692</td>\n",
       "      <td>59</td>\n",
       "      <td>BAT1586599</td>\n",
       "      <td>12.237563</td>\n",
       "      <td>C</td>\n",
       "      <td>D3</td>\n",
       "      <td>RENT</td>\n",
       "      <td>...</td>\n",
       "      <td>2.377215</td>\n",
       "      <td>0.974821</td>\n",
       "      <td>0</td>\n",
       "      <td>INDIVIDUAL</td>\n",
       "      <td>109</td>\n",
       "      <td>0</td>\n",
       "      <td>53</td>\n",
       "      <td>182610</td>\n",
       "      <td>20885</td>\n",
       "      <td>0</td>\n",
       "    </tr>\n",
       "    <tr>\n",
       "      <th>2</th>\n",
       "      <td>1969101</td>\n",
       "      <td>28276</td>\n",
       "      <td>9311</td>\n",
       "      <td>21603.22455</td>\n",
       "      <td>59</td>\n",
       "      <td>BAT2136391</td>\n",
       "      <td>12.545884</td>\n",
       "      <td>F</td>\n",
       "      <td>D4</td>\n",
       "      <td>MORTGAGE</td>\n",
       "      <td>...</td>\n",
       "      <td>4.316277</td>\n",
       "      <td>1.020075</td>\n",
       "      <td>0</td>\n",
       "      <td>INDIVIDUAL</td>\n",
       "      <td>66</td>\n",
       "      <td>0</td>\n",
       "      <td>34</td>\n",
       "      <td>89801</td>\n",
       "      <td>26155</td>\n",
       "      <td>0</td>\n",
       "    </tr>\n",
       "    <tr>\n",
       "      <th>3</th>\n",
       "      <td>6651430</td>\n",
       "      <td>11170</td>\n",
       "      <td>6954</td>\n",
       "      <td>17877.15585</td>\n",
       "      <td>59</td>\n",
       "      <td>BAT2428731</td>\n",
       "      <td>16.731201</td>\n",
       "      <td>C</td>\n",
       "      <td>C3</td>\n",
       "      <td>MORTGAGE</td>\n",
       "      <td>...</td>\n",
       "      <td>0.107020</td>\n",
       "      <td>0.749971</td>\n",
       "      <td>0</td>\n",
       "      <td>INDIVIDUAL</td>\n",
       "      <td>39</td>\n",
       "      <td>0</td>\n",
       "      <td>40</td>\n",
       "      <td>9189</td>\n",
       "      <td>60214</td>\n",
       "      <td>0</td>\n",
       "    </tr>\n",
       "    <tr>\n",
       "      <th>4</th>\n",
       "      <td>14354669</td>\n",
       "      <td>16890</td>\n",
       "      <td>13226</td>\n",
       "      <td>13539.92667</td>\n",
       "      <td>59</td>\n",
       "      <td>BAT5341619</td>\n",
       "      <td>15.008300</td>\n",
       "      <td>C</td>\n",
       "      <td>D4</td>\n",
       "      <td>MORTGAGE</td>\n",
       "      <td>...</td>\n",
       "      <td>1294.818751</td>\n",
       "      <td>0.368953</td>\n",
       "      <td>0</td>\n",
       "      <td>INDIVIDUAL</td>\n",
       "      <td>18</td>\n",
       "      <td>0</td>\n",
       "      <td>430</td>\n",
       "      <td>126029</td>\n",
       "      <td>22579</td>\n",
       "      <td>0</td>\n",
       "    </tr>\n",
       "  </tbody>\n",
       "</table>\n",
       "<p>5 rows × 35 columns</p>\n",
       "</div>"
      ],
      "text/plain": [
       "         ID  Loan Amount  Funded Amount  Funded Amount Investor  Term  \\\n",
       "0  65087372        10000          32236             12329.36286    59   \n",
       "1   1450153         3609          11940             12191.99692    59   \n",
       "2   1969101        28276           9311             21603.22455    59   \n",
       "3   6651430        11170           6954             17877.15585    59   \n",
       "4  14354669        16890          13226             13539.92667    59   \n",
       "\n",
       "  Batch Enrolled  Interest Rate Grade Sub Grade Employment Duration  ...  \\\n",
       "0     BAT2522922      11.135007     B        C4            MORTGAGE  ...   \n",
       "1     BAT1586599      12.237563     C        D3                RENT  ...   \n",
       "2     BAT2136391      12.545884     F        D4            MORTGAGE  ...   \n",
       "3     BAT2428731      16.731201     C        C3            MORTGAGE  ...   \n",
       "4     BAT5341619      15.008300     C        D4            MORTGAGE  ...   \n",
       "\n",
       "    Recoveries Collection Recovery Fee Collection 12 months Medical  \\\n",
       "0     2.498291                0.793724                            0   \n",
       "1     2.377215                0.974821                            0   \n",
       "2     4.316277                1.020075                            0   \n",
       "3     0.107020                0.749971                            0   \n",
       "4  1294.818751                0.368953                            0   \n",
       "\n",
       "  Application Type  Last week Pay  Accounts Delinquent  \\\n",
       "0       INDIVIDUAL             49                    0   \n",
       "1       INDIVIDUAL            109                    0   \n",
       "2       INDIVIDUAL             66                    0   \n",
       "3       INDIVIDUAL             39                    0   \n",
       "4       INDIVIDUAL             18                    0   \n",
       "\n",
       "   Total Collection Amount  Total Current Balance  \\\n",
       "0                       31                 311301   \n",
       "1                       53                 182610   \n",
       "2                       34                  89801   \n",
       "3                       40                   9189   \n",
       "4                      430                 126029   \n",
       "\n",
       "   Total Revolving Credit Limit  Loan Status  \n",
       "0                          6619            0  \n",
       "1                         20885            0  \n",
       "2                         26155            0  \n",
       "3                         60214            0  \n",
       "4                         22579            0  \n",
       "\n",
       "[5 rows x 35 columns]"
      ]
     },
     "execution_count": 3,
     "metadata": {},
     "output_type": "execute_result"
    }
   ],
   "source": [
    "data.head()"
   ]
  },
  {
   "cell_type": "code",
   "execution_count": 4,
   "id": "bb64352e-a63f-4923-9019-907d6dc11770",
   "metadata": {
    "tags": []
   },
   "outputs": [
    {
     "data": {
      "text/plain": [
       "Index(['ID', 'Loan Amount', 'Funded Amount', 'Funded Amount Investor', 'Term',\n",
       "       'Batch Enrolled', 'Interest Rate', 'Grade', 'Sub Grade',\n",
       "       'Employment Duration', 'Home Ownership', 'Verification Status',\n",
       "       'Payment Plan', 'Loan Title', 'Debit to Income',\n",
       "       'Delinquency - two years', 'Inquires - six months', 'Open Account',\n",
       "       'Public Record', 'Revolving Balance', 'Revolving Utilities',\n",
       "       'Total Accounts', 'Initial List Status', 'Total Received Interest',\n",
       "       'Total Received Late Fee', 'Recoveries', 'Collection Recovery Fee',\n",
       "       'Collection 12 months Medical', 'Application Type', 'Last week Pay',\n",
       "       'Accounts Delinquent', 'Total Collection Amount',\n",
       "       'Total Current Balance', 'Total Revolving Credit Limit', 'Loan Status'],\n",
       "      dtype='object')"
      ]
     },
     "execution_count": 4,
     "metadata": {},
     "output_type": "execute_result"
    }
   ],
   "source": [
    "data.columns"
   ]
  },
  {
   "cell_type": "markdown",
   "id": "b0475e72-d90e-45ba-96ea-20d7ef932af3",
   "metadata": {
    "tags": []
   },
   "source": [
    "## Split data into numerical and categorical"
   ]
  },
  {
   "cell_type": "code",
   "execution_count": 5,
   "id": "59f5b72e-60b0-42f1-af43-80e8dbb07d39",
   "metadata": {
    "tags": []
   },
   "outputs": [],
   "source": [
    "# select numerical data\n",
    "numerical_df = data.select_dtypes(exclude = \"object\")"
   ]
  },
  {
   "cell_type": "code",
   "execution_count": 6,
   "id": "3edf2d7d-b690-4725-9eaf-4f65d202fa00",
   "metadata": {
    "tags": []
   },
   "outputs": [
    {
     "data": {
      "text/plain": [
       "Index(['ID', 'Loan Amount', 'Funded Amount', 'Funded Amount Investor', 'Term',\n",
       "       'Interest Rate', 'Home Ownership', 'Debit to Income',\n",
       "       'Delinquency - two years', 'Inquires - six months', 'Open Account',\n",
       "       'Public Record', 'Revolving Balance', 'Revolving Utilities',\n",
       "       'Total Accounts', 'Total Received Interest', 'Total Received Late Fee',\n",
       "       'Recoveries', 'Collection Recovery Fee', 'Collection 12 months Medical',\n",
       "       'Last week Pay', 'Accounts Delinquent', 'Total Collection Amount',\n",
       "       'Total Current Balance', 'Total Revolving Credit Limit', 'Loan Status'],\n",
       "      dtype='object')"
      ]
     },
     "execution_count": 6,
     "metadata": {},
     "output_type": "execute_result"
    }
   ],
   "source": [
    "# display numerical columns\n",
    "numerical_df.columns"
   ]
  },
  {
   "cell_type": "code",
   "execution_count": 7,
   "id": "452b363a-4801-46e3-893c-1d7521f94113",
   "metadata": {
    "tags": []
   },
   "outputs": [],
   "source": [
    "# select categorical data\n",
    "categorical_df = data.select_dtypes(include = \"object\")"
   ]
  },
  {
   "cell_type": "code",
   "execution_count": 8,
   "id": "43a7ba66-7077-4c5f-8bb4-46d1593f768c",
   "metadata": {
    "tags": []
   },
   "outputs": [
    {
     "data": {
      "text/plain": [
       "Index(['Batch Enrolled', 'Grade', 'Sub Grade', 'Employment Duration',\n",
       "       'Verification Status', 'Payment Plan', 'Loan Title',\n",
       "       'Initial List Status', 'Application Type'],\n",
       "      dtype='object')"
      ]
     },
     "execution_count": 8,
     "metadata": {},
     "output_type": "execute_result"
    }
   ],
   "source": [
    "# display categorical columns\n",
    "categorical_df.columns"
   ]
  },
  {
   "cell_type": "code",
   "execution_count": null,
   "id": "51cb933c-e301-45a8-9288-52d7904ac72d",
   "metadata": {},
   "outputs": [],
   "source": []
  },
  {
   "cell_type": "markdown",
   "id": "e8f5af45-b2fb-4100-ac71-19c0464c11fa",
   "metadata": {},
   "source": [
    "# clean numerical data"
   ]
  },
  {
   "cell_type": "code",
   "execution_count": 9,
   "id": "1698f6dd-ce46-434b-afec-7870e2ed77e0",
   "metadata": {
    "tags": []
   },
   "outputs": [
    {
     "data": {
      "text/html": [
       "<div>\n",
       "<style scoped>\n",
       "    .dataframe tbody tr th:only-of-type {\n",
       "        vertical-align: middle;\n",
       "    }\n",
       "\n",
       "    .dataframe tbody tr th {\n",
       "        vertical-align: top;\n",
       "    }\n",
       "\n",
       "    .dataframe thead th {\n",
       "        text-align: right;\n",
       "    }\n",
       "</style>\n",
       "<table border=\"1\" class=\"dataframe\">\n",
       "  <thead>\n",
       "    <tr style=\"text-align: right;\">\n",
       "      <th></th>\n",
       "      <th>ID</th>\n",
       "      <th>Loan Amount</th>\n",
       "      <th>Funded Amount</th>\n",
       "      <th>Funded Amount Investor</th>\n",
       "      <th>Term</th>\n",
       "      <th>Interest Rate</th>\n",
       "      <th>Home Ownership</th>\n",
       "      <th>Debit to Income</th>\n",
       "      <th>Delinquency - two years</th>\n",
       "      <th>Inquires - six months</th>\n",
       "      <th>...</th>\n",
       "      <th>Total Received Late Fee</th>\n",
       "      <th>Recoveries</th>\n",
       "      <th>Collection Recovery Fee</th>\n",
       "      <th>Collection 12 months Medical</th>\n",
       "      <th>Last week Pay</th>\n",
       "      <th>Accounts Delinquent</th>\n",
       "      <th>Total Collection Amount</th>\n",
       "      <th>Total Current Balance</th>\n",
       "      <th>Total Revolving Credit Limit</th>\n",
       "      <th>Loan Status</th>\n",
       "    </tr>\n",
       "  </thead>\n",
       "  <tbody>\n",
       "    <tr>\n",
       "      <th>0</th>\n",
       "      <td>65087372</td>\n",
       "      <td>10000</td>\n",
       "      <td>32236</td>\n",
       "      <td>12329.36286</td>\n",
       "      <td>59</td>\n",
       "      <td>11.135007</td>\n",
       "      <td>176346.62670</td>\n",
       "      <td>16.284758</td>\n",
       "      <td>1</td>\n",
       "      <td>0</td>\n",
       "      <td>...</td>\n",
       "      <td>0.102055</td>\n",
       "      <td>2.498291</td>\n",
       "      <td>0.793724</td>\n",
       "      <td>0</td>\n",
       "      <td>49</td>\n",
       "      <td>0</td>\n",
       "      <td>31</td>\n",
       "      <td>311301</td>\n",
       "      <td>6619</td>\n",
       "      <td>0</td>\n",
       "    </tr>\n",
       "    <tr>\n",
       "      <th>1</th>\n",
       "      <td>1450153</td>\n",
       "      <td>3609</td>\n",
       "      <td>11940</td>\n",
       "      <td>12191.99692</td>\n",
       "      <td>59</td>\n",
       "      <td>12.237563</td>\n",
       "      <td>39833.92100</td>\n",
       "      <td>15.412409</td>\n",
       "      <td>0</td>\n",
       "      <td>0</td>\n",
       "      <td>...</td>\n",
       "      <td>0.036181</td>\n",
       "      <td>2.377215</td>\n",
       "      <td>0.974821</td>\n",
       "      <td>0</td>\n",
       "      <td>109</td>\n",
       "      <td>0</td>\n",
       "      <td>53</td>\n",
       "      <td>182610</td>\n",
       "      <td>20885</td>\n",
       "      <td>0</td>\n",
       "    </tr>\n",
       "    <tr>\n",
       "      <th>2</th>\n",
       "      <td>1969101</td>\n",
       "      <td>28276</td>\n",
       "      <td>9311</td>\n",
       "      <td>21603.22455</td>\n",
       "      <td>59</td>\n",
       "      <td>12.545884</td>\n",
       "      <td>91506.69105</td>\n",
       "      <td>28.137619</td>\n",
       "      <td>0</td>\n",
       "      <td>0</td>\n",
       "      <td>...</td>\n",
       "      <td>18.778660</td>\n",
       "      <td>4.316277</td>\n",
       "      <td>1.020075</td>\n",
       "      <td>0</td>\n",
       "      <td>66</td>\n",
       "      <td>0</td>\n",
       "      <td>34</td>\n",
       "      <td>89801</td>\n",
       "      <td>26155</td>\n",
       "      <td>0</td>\n",
       "    </tr>\n",
       "    <tr>\n",
       "      <th>3</th>\n",
       "      <td>6651430</td>\n",
       "      <td>11170</td>\n",
       "      <td>6954</td>\n",
       "      <td>17877.15585</td>\n",
       "      <td>59</td>\n",
       "      <td>16.731201</td>\n",
       "      <td>108286.57590</td>\n",
       "      <td>18.043730</td>\n",
       "      <td>1</td>\n",
       "      <td>0</td>\n",
       "      <td>...</td>\n",
       "      <td>0.044131</td>\n",
       "      <td>0.107020</td>\n",
       "      <td>0.749971</td>\n",
       "      <td>0</td>\n",
       "      <td>39</td>\n",
       "      <td>0</td>\n",
       "      <td>40</td>\n",
       "      <td>9189</td>\n",
       "      <td>60214</td>\n",
       "      <td>0</td>\n",
       "    </tr>\n",
       "    <tr>\n",
       "      <th>4</th>\n",
       "      <td>14354669</td>\n",
       "      <td>16890</td>\n",
       "      <td>13226</td>\n",
       "      <td>13539.92667</td>\n",
       "      <td>59</td>\n",
       "      <td>15.008300</td>\n",
       "      <td>44234.82545</td>\n",
       "      <td>17.209886</td>\n",
       "      <td>1</td>\n",
       "      <td>3</td>\n",
       "      <td>...</td>\n",
       "      <td>19.306646</td>\n",
       "      <td>1294.818751</td>\n",
       "      <td>0.368953</td>\n",
       "      <td>0</td>\n",
       "      <td>18</td>\n",
       "      <td>0</td>\n",
       "      <td>430</td>\n",
       "      <td>126029</td>\n",
       "      <td>22579</td>\n",
       "      <td>0</td>\n",
       "    </tr>\n",
       "  </tbody>\n",
       "</table>\n",
       "<p>5 rows × 26 columns</p>\n",
       "</div>"
      ],
      "text/plain": [
       "         ID  Loan Amount  Funded Amount  Funded Amount Investor  Term  \\\n",
       "0  65087372        10000          32236             12329.36286    59   \n",
       "1   1450153         3609          11940             12191.99692    59   \n",
       "2   1969101        28276           9311             21603.22455    59   \n",
       "3   6651430        11170           6954             17877.15585    59   \n",
       "4  14354669        16890          13226             13539.92667    59   \n",
       "\n",
       "   Interest Rate  Home Ownership  Debit to Income  Delinquency - two years  \\\n",
       "0      11.135007    176346.62670        16.284758                        1   \n",
       "1      12.237563     39833.92100        15.412409                        0   \n",
       "2      12.545884     91506.69105        28.137619                        0   \n",
       "3      16.731201    108286.57590        18.043730                        1   \n",
       "4      15.008300     44234.82545        17.209886                        1   \n",
       "\n",
       "   Inquires - six months  ...  Total Received Late Fee   Recoveries  \\\n",
       "0                      0  ...                 0.102055     2.498291   \n",
       "1                      0  ...                 0.036181     2.377215   \n",
       "2                      0  ...                18.778660     4.316277   \n",
       "3                      0  ...                 0.044131     0.107020   \n",
       "4                      3  ...                19.306646  1294.818751   \n",
       "\n",
       "   Collection Recovery Fee  Collection 12 months Medical  Last week Pay  \\\n",
       "0                 0.793724                             0             49   \n",
       "1                 0.974821                             0            109   \n",
       "2                 1.020075                             0             66   \n",
       "3                 0.749971                             0             39   \n",
       "4                 0.368953                             0             18   \n",
       "\n",
       "   Accounts Delinquent  Total Collection Amount  Total Current Balance  \\\n",
       "0                    0                       31                 311301   \n",
       "1                    0                       53                 182610   \n",
       "2                    0                       34                  89801   \n",
       "3                    0                       40                   9189   \n",
       "4                    0                      430                 126029   \n",
       "\n",
       "   Total Revolving Credit Limit  Loan Status  \n",
       "0                          6619            0  \n",
       "1                         20885            0  \n",
       "2                         26155            0  \n",
       "3                         60214            0  \n",
       "4                         22579            0  \n",
       "\n",
       "[5 rows x 26 columns]"
      ]
     },
     "execution_count": 9,
     "metadata": {},
     "output_type": "execute_result"
    }
   ],
   "source": [
    "numerical_df.head()"
   ]
  },
  {
   "cell_type": "code",
   "execution_count": null,
   "id": "ea8104b9-d97b-4df2-864a-11f1abdb9f55",
   "metadata": {
    "tags": []
   },
   "outputs": [],
   "source": []
  },
  {
   "cell_type": "code",
   "execution_count": 10,
   "id": "2a8f79ff-fb1a-405f-bd2a-65c336de46a7",
   "metadata": {
    "tags": []
   },
   "outputs": [
    {
     "data": {
      "text/html": [
       "<div>\n",
       "<style scoped>\n",
       "    .dataframe tbody tr th:only-of-type {\n",
       "        vertical-align: middle;\n",
       "    }\n",
       "\n",
       "    .dataframe tbody tr th {\n",
       "        vertical-align: top;\n",
       "    }\n",
       "\n",
       "    .dataframe thead th {\n",
       "        text-align: right;\n",
       "    }\n",
       "</style>\n",
       "<table border=\"1\" class=\"dataframe\">\n",
       "  <thead>\n",
       "    <tr style=\"text-align: right;\">\n",
       "      <th></th>\n",
       "      <th>count</th>\n",
       "      <th>mean</th>\n",
       "      <th>std</th>\n",
       "      <th>min</th>\n",
       "      <th>25%</th>\n",
       "      <th>50%</th>\n",
       "      <th>75%</th>\n",
       "      <th>max</th>\n",
       "    </tr>\n",
       "  </thead>\n",
       "  <tbody>\n",
       "    <tr>\n",
       "      <th>ID</th>\n",
       "      <td>67463.00</td>\n",
       "      <td>25627607.75</td>\n",
       "      <td>21091554.02</td>\n",
       "      <td>1297933.00</td>\n",
       "      <td>6570288.00</td>\n",
       "      <td>17915646.00</td>\n",
       "      <td>42715208.50</td>\n",
       "      <td>72245779.00</td>\n",
       "    </tr>\n",
       "    <tr>\n",
       "      <th>Loan Amount</th>\n",
       "      <td>67463.00</td>\n",
       "      <td>16848.90</td>\n",
       "      <td>8367.87</td>\n",
       "      <td>1014.00</td>\n",
       "      <td>10012.00</td>\n",
       "      <td>16073.00</td>\n",
       "      <td>22106.00</td>\n",
       "      <td>35000.00</td>\n",
       "    </tr>\n",
       "    <tr>\n",
       "      <th>Funded Amount</th>\n",
       "      <td>67463.00</td>\n",
       "      <td>15770.60</td>\n",
       "      <td>8150.99</td>\n",
       "      <td>1014.00</td>\n",
       "      <td>9266.50</td>\n",
       "      <td>13042.00</td>\n",
       "      <td>21793.00</td>\n",
       "      <td>34999.00</td>\n",
       "    </tr>\n",
       "    <tr>\n",
       "      <th>Funded Amount Investor</th>\n",
       "      <td>67463.00</td>\n",
       "      <td>14621.80</td>\n",
       "      <td>6785.35</td>\n",
       "      <td>1114.59</td>\n",
       "      <td>9831.68</td>\n",
       "      <td>12793.68</td>\n",
       "      <td>17807.59</td>\n",
       "      <td>34999.75</td>\n",
       "    </tr>\n",
       "    <tr>\n",
       "      <th>Term</th>\n",
       "      <td>67463.00</td>\n",
       "      <td>58.17</td>\n",
       "      <td>3.33</td>\n",
       "      <td>36.00</td>\n",
       "      <td>58.00</td>\n",
       "      <td>59.00</td>\n",
       "      <td>59.00</td>\n",
       "      <td>59.00</td>\n",
       "    </tr>\n",
       "    <tr>\n",
       "      <th>Interest Rate</th>\n",
       "      <td>67463.00</td>\n",
       "      <td>11.85</td>\n",
       "      <td>3.72</td>\n",
       "      <td>5.32</td>\n",
       "      <td>9.30</td>\n",
       "      <td>11.38</td>\n",
       "      <td>14.19</td>\n",
       "      <td>27.18</td>\n",
       "    </tr>\n",
       "    <tr>\n",
       "      <th>Home Ownership</th>\n",
       "      <td>67463.00</td>\n",
       "      <td>80541.50</td>\n",
       "      <td>45029.12</td>\n",
       "      <td>14573.54</td>\n",
       "      <td>51689.84</td>\n",
       "      <td>69335.83</td>\n",
       "      <td>94623.32</td>\n",
       "      <td>406561.54</td>\n",
       "    </tr>\n",
       "    <tr>\n",
       "      <th>Debit to Income</th>\n",
       "      <td>67463.00</td>\n",
       "      <td>23.30</td>\n",
       "      <td>8.45</td>\n",
       "      <td>0.68</td>\n",
       "      <td>16.76</td>\n",
       "      <td>22.66</td>\n",
       "      <td>30.05</td>\n",
       "      <td>39.63</td>\n",
       "    </tr>\n",
       "    <tr>\n",
       "      <th>Delinquency - two years</th>\n",
       "      <td>67463.00</td>\n",
       "      <td>0.33</td>\n",
       "      <td>0.80</td>\n",
       "      <td>0.00</td>\n",
       "      <td>0.00</td>\n",
       "      <td>0.00</td>\n",
       "      <td>0.00</td>\n",
       "      <td>8.00</td>\n",
       "    </tr>\n",
       "    <tr>\n",
       "      <th>Inquires - six months</th>\n",
       "      <td>67463.00</td>\n",
       "      <td>0.15</td>\n",
       "      <td>0.47</td>\n",
       "      <td>0.00</td>\n",
       "      <td>0.00</td>\n",
       "      <td>0.00</td>\n",
       "      <td>0.00</td>\n",
       "      <td>5.00</td>\n",
       "    </tr>\n",
       "    <tr>\n",
       "      <th>Open Account</th>\n",
       "      <td>67463.00</td>\n",
       "      <td>14.27</td>\n",
       "      <td>6.23</td>\n",
       "      <td>2.00</td>\n",
       "      <td>10.00</td>\n",
       "      <td>13.00</td>\n",
       "      <td>16.00</td>\n",
       "      <td>37.00</td>\n",
       "    </tr>\n",
       "    <tr>\n",
       "      <th>Public Record</th>\n",
       "      <td>67463.00</td>\n",
       "      <td>0.08</td>\n",
       "      <td>0.35</td>\n",
       "      <td>0.00</td>\n",
       "      <td>0.00</td>\n",
       "      <td>0.00</td>\n",
       "      <td>0.00</td>\n",
       "      <td>4.00</td>\n",
       "    </tr>\n",
       "    <tr>\n",
       "      <th>Revolving Balance</th>\n",
       "      <td>67463.00</td>\n",
       "      <td>7699.34</td>\n",
       "      <td>7836.15</td>\n",
       "      <td>0.00</td>\n",
       "      <td>2557.00</td>\n",
       "      <td>5516.00</td>\n",
       "      <td>10184.50</td>\n",
       "      <td>116933.00</td>\n",
       "    </tr>\n",
       "    <tr>\n",
       "      <th>Revolving Utilities</th>\n",
       "      <td>67463.00</td>\n",
       "      <td>52.89</td>\n",
       "      <td>22.54</td>\n",
       "      <td>0.01</td>\n",
       "      <td>38.66</td>\n",
       "      <td>54.08</td>\n",
       "      <td>69.18</td>\n",
       "      <td>100.88</td>\n",
       "    </tr>\n",
       "    <tr>\n",
       "      <th>Total Accounts</th>\n",
       "      <td>67463.00</td>\n",
       "      <td>18.63</td>\n",
       "      <td>8.32</td>\n",
       "      <td>4.00</td>\n",
       "      <td>13.00</td>\n",
       "      <td>18.00</td>\n",
       "      <td>23.00</td>\n",
       "      <td>72.00</td>\n",
       "    </tr>\n",
       "    <tr>\n",
       "      <th>Total Received Interest</th>\n",
       "      <td>67463.00</td>\n",
       "      <td>2068.99</td>\n",
       "      <td>2221.92</td>\n",
       "      <td>4.74</td>\n",
       "      <td>570.90</td>\n",
       "      <td>1330.84</td>\n",
       "      <td>2656.96</td>\n",
       "      <td>14301.37</td>\n",
       "    </tr>\n",
       "    <tr>\n",
       "      <th>Total Received Late Fee</th>\n",
       "      <td>67463.00</td>\n",
       "      <td>1.14</td>\n",
       "      <td>5.24</td>\n",
       "      <td>0.00</td>\n",
       "      <td>0.02</td>\n",
       "      <td>0.04</td>\n",
       "      <td>0.07</td>\n",
       "      <td>42.62</td>\n",
       "    </tr>\n",
       "    <tr>\n",
       "      <th>Recoveries</th>\n",
       "      <td>67463.00</td>\n",
       "      <td>59.69</td>\n",
       "      <td>357.03</td>\n",
       "      <td>0.00</td>\n",
       "      <td>1.63</td>\n",
       "      <td>3.34</td>\n",
       "      <td>5.45</td>\n",
       "      <td>4354.47</td>\n",
       "    </tr>\n",
       "    <tr>\n",
       "      <th>Collection Recovery Fee</th>\n",
       "      <td>67463.00</td>\n",
       "      <td>1.13</td>\n",
       "      <td>3.49</td>\n",
       "      <td>0.00</td>\n",
       "      <td>0.48</td>\n",
       "      <td>0.78</td>\n",
       "      <td>1.07</td>\n",
       "      <td>166.83</td>\n",
       "    </tr>\n",
       "    <tr>\n",
       "      <th>Collection 12 months Medical</th>\n",
       "      <td>67463.00</td>\n",
       "      <td>0.02</td>\n",
       "      <td>0.14</td>\n",
       "      <td>0.00</td>\n",
       "      <td>0.00</td>\n",
       "      <td>0.00</td>\n",
       "      <td>0.00</td>\n",
       "      <td>1.00</td>\n",
       "    </tr>\n",
       "    <tr>\n",
       "      <th>Last week Pay</th>\n",
       "      <td>67463.00</td>\n",
       "      <td>71.16</td>\n",
       "      <td>43.32</td>\n",
       "      <td>0.00</td>\n",
       "      <td>35.00</td>\n",
       "      <td>68.00</td>\n",
       "      <td>105.00</td>\n",
       "      <td>161.00</td>\n",
       "    </tr>\n",
       "    <tr>\n",
       "      <th>Accounts Delinquent</th>\n",
       "      <td>67463.00</td>\n",
       "      <td>0.00</td>\n",
       "      <td>0.00</td>\n",
       "      <td>0.00</td>\n",
       "      <td>0.00</td>\n",
       "      <td>0.00</td>\n",
       "      <td>0.00</td>\n",
       "      <td>0.00</td>\n",
       "    </tr>\n",
       "    <tr>\n",
       "      <th>Total Collection Amount</th>\n",
       "      <td>67463.00</td>\n",
       "      <td>146.47</td>\n",
       "      <td>744.38</td>\n",
       "      <td>1.00</td>\n",
       "      <td>24.00</td>\n",
       "      <td>36.00</td>\n",
       "      <td>46.00</td>\n",
       "      <td>16421.00</td>\n",
       "    </tr>\n",
       "    <tr>\n",
       "      <th>Total Current Balance</th>\n",
       "      <td>67463.00</td>\n",
       "      <td>159573.93</td>\n",
       "      <td>139033.25</td>\n",
       "      <td>617.00</td>\n",
       "      <td>50379.00</td>\n",
       "      <td>118369.00</td>\n",
       "      <td>228375.00</td>\n",
       "      <td>1177412.00</td>\n",
       "    </tr>\n",
       "    <tr>\n",
       "      <th>Total Revolving Credit Limit</th>\n",
       "      <td>67463.00</td>\n",
       "      <td>23123.01</td>\n",
       "      <td>20916.70</td>\n",
       "      <td>1000.00</td>\n",
       "      <td>8155.50</td>\n",
       "      <td>16733.00</td>\n",
       "      <td>32146.50</td>\n",
       "      <td>201169.00</td>\n",
       "    </tr>\n",
       "    <tr>\n",
       "      <th>Loan Status</th>\n",
       "      <td>67463.00</td>\n",
       "      <td>0.09</td>\n",
       "      <td>0.29</td>\n",
       "      <td>0.00</td>\n",
       "      <td>0.00</td>\n",
       "      <td>0.00</td>\n",
       "      <td>0.00</td>\n",
       "      <td>1.00</td>\n",
       "    </tr>\n",
       "  </tbody>\n",
       "</table>\n",
       "</div>"
      ],
      "text/plain": [
       "                                count        mean         std        min  \\\n",
       "ID                           67463.00 25627607.75 21091554.02 1297933.00   \n",
       "Loan Amount                  67463.00    16848.90     8367.87    1014.00   \n",
       "Funded Amount                67463.00    15770.60     8150.99    1014.00   \n",
       "Funded Amount Investor       67463.00    14621.80     6785.35    1114.59   \n",
       "Term                         67463.00       58.17        3.33      36.00   \n",
       "Interest Rate                67463.00       11.85        3.72       5.32   \n",
       "Home Ownership               67463.00    80541.50    45029.12   14573.54   \n",
       "Debit to Income              67463.00       23.30        8.45       0.68   \n",
       "Delinquency - two years      67463.00        0.33        0.80       0.00   \n",
       "Inquires - six months        67463.00        0.15        0.47       0.00   \n",
       "Open Account                 67463.00       14.27        6.23       2.00   \n",
       "Public Record                67463.00        0.08        0.35       0.00   \n",
       "Revolving Balance            67463.00     7699.34     7836.15       0.00   \n",
       "Revolving Utilities          67463.00       52.89       22.54       0.01   \n",
       "Total Accounts               67463.00       18.63        8.32       4.00   \n",
       "Total Received Interest      67463.00     2068.99     2221.92       4.74   \n",
       "Total Received Late Fee      67463.00        1.14        5.24       0.00   \n",
       "Recoveries                   67463.00       59.69      357.03       0.00   \n",
       "Collection Recovery Fee      67463.00        1.13        3.49       0.00   \n",
       "Collection 12 months Medical 67463.00        0.02        0.14       0.00   \n",
       "Last week Pay                67463.00       71.16       43.32       0.00   \n",
       "Accounts Delinquent          67463.00        0.00        0.00       0.00   \n",
       "Total Collection Amount      67463.00      146.47      744.38       1.00   \n",
       "Total Current Balance        67463.00   159573.93   139033.25     617.00   \n",
       "Total Revolving Credit Limit 67463.00    23123.01    20916.70    1000.00   \n",
       "Loan Status                  67463.00        0.09        0.29       0.00   \n",
       "\n",
       "                                    25%         50%         75%         max  \n",
       "ID                           6570288.00 17915646.00 42715208.50 72245779.00  \n",
       "Loan Amount                    10012.00    16073.00    22106.00    35000.00  \n",
       "Funded Amount                   9266.50    13042.00    21793.00    34999.00  \n",
       "Funded Amount Investor          9831.68    12793.68    17807.59    34999.75  \n",
       "Term                              58.00       59.00       59.00       59.00  \n",
       "Interest Rate                      9.30       11.38       14.19       27.18  \n",
       "Home Ownership                 51689.84    69335.83    94623.32   406561.54  \n",
       "Debit to Income                   16.76       22.66       30.05       39.63  \n",
       "Delinquency - two years            0.00        0.00        0.00        8.00  \n",
       "Inquires - six months              0.00        0.00        0.00        5.00  \n",
       "Open Account                      10.00       13.00       16.00       37.00  \n",
       "Public Record                      0.00        0.00        0.00        4.00  \n",
       "Revolving Balance               2557.00     5516.00    10184.50   116933.00  \n",
       "Revolving Utilities               38.66       54.08       69.18      100.88  \n",
       "Total Accounts                    13.00       18.00       23.00       72.00  \n",
       "Total Received Interest          570.90     1330.84     2656.96    14301.37  \n",
       "Total Received Late Fee            0.02        0.04        0.07       42.62  \n",
       "Recoveries                         1.63        3.34        5.45     4354.47  \n",
       "Collection Recovery Fee            0.48        0.78        1.07      166.83  \n",
       "Collection 12 months Medical       0.00        0.00        0.00        1.00  \n",
       "Last week Pay                     35.00       68.00      105.00      161.00  \n",
       "Accounts Delinquent                0.00        0.00        0.00        0.00  \n",
       "Total Collection Amount           24.00       36.00       46.00    16421.00  \n",
       "Total Current Balance          50379.00   118369.00   228375.00  1177412.00  \n",
       "Total Revolving Credit Limit    8155.50    16733.00    32146.50   201169.00  \n",
       "Loan Status                        0.00        0.00        0.00        1.00  "
      ]
     },
     "execution_count": 10,
     "metadata": {},
     "output_type": "execute_result"
    }
   ],
   "source": [
    "# Set the display format for floating-point numbers\n",
    "pd.set_option('display.float_format', lambda x: '%.2f' % x)\n",
    "\n",
    "numerical_df.describe().T"
   ]
  },
  {
   "cell_type": "markdown",
   "id": "eb8eee8c-ba1a-492d-817b-0075448039c2",
   "metadata": {},
   "source": [
    "**Features to Drop**\n",
    "- ID\n",
    "- Accounts Delinquent"
   ]
  },
  {
   "cell_type": "code",
   "execution_count": 11,
   "id": "5c401d78-a042-44c2-b55f-18de000063cb",
   "metadata": {},
   "outputs": [
    {
     "data": {
      "text/html": [
       "<div>\n",
       "<style scoped>\n",
       "    .dataframe tbody tr th:only-of-type {\n",
       "        vertical-align: middle;\n",
       "    }\n",
       "\n",
       "    .dataframe tbody tr th {\n",
       "        vertical-align: top;\n",
       "    }\n",
       "\n",
       "    .dataframe thead th {\n",
       "        text-align: right;\n",
       "    }\n",
       "</style>\n",
       "<table border=\"1\" class=\"dataframe\">\n",
       "  <thead>\n",
       "    <tr style=\"text-align: right;\">\n",
       "      <th></th>\n",
       "      <th>Loan Amount</th>\n",
       "      <th>Funded Amount</th>\n",
       "      <th>Funded Amount Investor</th>\n",
       "      <th>Term</th>\n",
       "      <th>Interest Rate</th>\n",
       "      <th>Home Ownership</th>\n",
       "      <th>Debit to Income</th>\n",
       "      <th>Delinquency - two years</th>\n",
       "      <th>Inquires - six months</th>\n",
       "      <th>Open Account</th>\n",
       "      <th>...</th>\n",
       "      <th>Total Received Interest</th>\n",
       "      <th>Total Received Late Fee</th>\n",
       "      <th>Recoveries</th>\n",
       "      <th>Collection Recovery Fee</th>\n",
       "      <th>Collection 12 months Medical</th>\n",
       "      <th>Last week Pay</th>\n",
       "      <th>Total Collection Amount</th>\n",
       "      <th>Total Current Balance</th>\n",
       "      <th>Total Revolving Credit Limit</th>\n",
       "      <th>Loan Status</th>\n",
       "    </tr>\n",
       "  </thead>\n",
       "  <tbody>\n",
       "    <tr>\n",
       "      <th>0</th>\n",
       "      <td>10000</td>\n",
       "      <td>32236</td>\n",
       "      <td>12329.36</td>\n",
       "      <td>59</td>\n",
       "      <td>11.14</td>\n",
       "      <td>176346.63</td>\n",
       "      <td>16.28</td>\n",
       "      <td>1</td>\n",
       "      <td>0</td>\n",
       "      <td>13</td>\n",
       "      <td>...</td>\n",
       "      <td>2929.65</td>\n",
       "      <td>0.10</td>\n",
       "      <td>2.50</td>\n",
       "      <td>0.79</td>\n",
       "      <td>0</td>\n",
       "      <td>49</td>\n",
       "      <td>31</td>\n",
       "      <td>311301</td>\n",
       "      <td>6619</td>\n",
       "      <td>0</td>\n",
       "    </tr>\n",
       "    <tr>\n",
       "      <th>1</th>\n",
       "      <td>3609</td>\n",
       "      <td>11940</td>\n",
       "      <td>12192.00</td>\n",
       "      <td>59</td>\n",
       "      <td>12.24</td>\n",
       "      <td>39833.92</td>\n",
       "      <td>15.41</td>\n",
       "      <td>0</td>\n",
       "      <td>0</td>\n",
       "      <td>12</td>\n",
       "      <td>...</td>\n",
       "      <td>772.77</td>\n",
       "      <td>0.04</td>\n",
       "      <td>2.38</td>\n",
       "      <td>0.97</td>\n",
       "      <td>0</td>\n",
       "      <td>109</td>\n",
       "      <td>53</td>\n",
       "      <td>182610</td>\n",
       "      <td>20885</td>\n",
       "      <td>0</td>\n",
       "    </tr>\n",
       "  </tbody>\n",
       "</table>\n",
       "<p>2 rows × 24 columns</p>\n",
       "</div>"
      ],
      "text/plain": [
       "   Loan Amount  Funded Amount  Funded Amount Investor  Term  Interest Rate  \\\n",
       "0        10000          32236                12329.36    59          11.14   \n",
       "1         3609          11940                12192.00    59          12.24   \n",
       "\n",
       "   Home Ownership  Debit to Income  Delinquency - two years  \\\n",
       "0       176346.63            16.28                        1   \n",
       "1        39833.92            15.41                        0   \n",
       "\n",
       "   Inquires - six months  Open Account  ...  Total Received Interest  \\\n",
       "0                      0            13  ...                  2929.65   \n",
       "1                      0            12  ...                   772.77   \n",
       "\n",
       "   Total Received Late Fee  Recoveries  Collection Recovery Fee  \\\n",
       "0                     0.10        2.50                     0.79   \n",
       "1                     0.04        2.38                     0.97   \n",
       "\n",
       "   Collection 12 months Medical  Last week Pay  Total Collection Amount  \\\n",
       "0                             0             49                       31   \n",
       "1                             0            109                       53   \n",
       "\n",
       "   Total Current Balance  Total Revolving Credit Limit  Loan Status  \n",
       "0                 311301                          6619            0  \n",
       "1                 182610                         20885            0  \n",
       "\n",
       "[2 rows x 24 columns]"
      ]
     },
     "execution_count": 11,
     "metadata": {},
     "output_type": "execute_result"
    }
   ],
   "source": [
    "numerical_df = numerical_df.drop([\"ID\", \"Accounts Delinquent\"], axis =1)\n",
    "numerical_df.head(2)"
   ]
  },
  {
   "cell_type": "code",
   "execution_count": null,
   "id": "d2a3e97d-1669-4b1a-8232-fb9637836aef",
   "metadata": {},
   "outputs": [],
   "source": []
  },
  {
   "cell_type": "code",
   "execution_count": null,
   "id": "50fb1ff8-4c32-4023-8b20-685d5d864fb1",
   "metadata": {},
   "outputs": [],
   "source": []
  },
  {
   "cell_type": "markdown",
   "id": "23ac109f-9bb5-4984-8275-f601a13f756b",
   "metadata": {},
   "source": [
    "# categorical data"
   ]
  },
  {
   "cell_type": "code",
   "execution_count": 12,
   "id": "b83fd573-142f-4eec-a07f-616aa60bfc6a",
   "metadata": {
    "tags": []
   },
   "outputs": [
    {
     "data": {
      "text/html": [
       "<div>\n",
       "<style scoped>\n",
       "    .dataframe tbody tr th:only-of-type {\n",
       "        vertical-align: middle;\n",
       "    }\n",
       "\n",
       "    .dataframe tbody tr th {\n",
       "        vertical-align: top;\n",
       "    }\n",
       "\n",
       "    .dataframe thead th {\n",
       "        text-align: right;\n",
       "    }\n",
       "</style>\n",
       "<table border=\"1\" class=\"dataframe\">\n",
       "  <thead>\n",
       "    <tr style=\"text-align: right;\">\n",
       "      <th></th>\n",
       "      <th>Batch Enrolled</th>\n",
       "      <th>Grade</th>\n",
       "      <th>Sub Grade</th>\n",
       "      <th>Employment Duration</th>\n",
       "      <th>Verification Status</th>\n",
       "      <th>Payment Plan</th>\n",
       "      <th>Loan Title</th>\n",
       "      <th>Initial List Status</th>\n",
       "      <th>Application Type</th>\n",
       "    </tr>\n",
       "  </thead>\n",
       "  <tbody>\n",
       "    <tr>\n",
       "      <th>0</th>\n",
       "      <td>BAT2522922</td>\n",
       "      <td>B</td>\n",
       "      <td>C4</td>\n",
       "      <td>MORTGAGE</td>\n",
       "      <td>Not Verified</td>\n",
       "      <td>n</td>\n",
       "      <td>Debt Consolidation</td>\n",
       "      <td>w</td>\n",
       "      <td>INDIVIDUAL</td>\n",
       "    </tr>\n",
       "    <tr>\n",
       "      <th>1</th>\n",
       "      <td>BAT1586599</td>\n",
       "      <td>C</td>\n",
       "      <td>D3</td>\n",
       "      <td>RENT</td>\n",
       "      <td>Source Verified</td>\n",
       "      <td>n</td>\n",
       "      <td>Debt consolidation</td>\n",
       "      <td>f</td>\n",
       "      <td>INDIVIDUAL</td>\n",
       "    </tr>\n",
       "    <tr>\n",
       "      <th>2</th>\n",
       "      <td>BAT2136391</td>\n",
       "      <td>F</td>\n",
       "      <td>D4</td>\n",
       "      <td>MORTGAGE</td>\n",
       "      <td>Source Verified</td>\n",
       "      <td>n</td>\n",
       "      <td>Debt Consolidation</td>\n",
       "      <td>w</td>\n",
       "      <td>INDIVIDUAL</td>\n",
       "    </tr>\n",
       "    <tr>\n",
       "      <th>3</th>\n",
       "      <td>BAT2428731</td>\n",
       "      <td>C</td>\n",
       "      <td>C3</td>\n",
       "      <td>MORTGAGE</td>\n",
       "      <td>Source Verified</td>\n",
       "      <td>n</td>\n",
       "      <td>Debt consolidation</td>\n",
       "      <td>w</td>\n",
       "      <td>INDIVIDUAL</td>\n",
       "    </tr>\n",
       "    <tr>\n",
       "      <th>4</th>\n",
       "      <td>BAT5341619</td>\n",
       "      <td>C</td>\n",
       "      <td>D4</td>\n",
       "      <td>MORTGAGE</td>\n",
       "      <td>Source Verified</td>\n",
       "      <td>n</td>\n",
       "      <td>Credit card refinancing</td>\n",
       "      <td>w</td>\n",
       "      <td>INDIVIDUAL</td>\n",
       "    </tr>\n",
       "  </tbody>\n",
       "</table>\n",
       "</div>"
      ],
      "text/plain": [
       "  Batch Enrolled Grade Sub Grade Employment Duration Verification Status  \\\n",
       "0     BAT2522922     B        C4            MORTGAGE        Not Verified   \n",
       "1     BAT1586599     C        D3                RENT     Source Verified   \n",
       "2     BAT2136391     F        D4            MORTGAGE     Source Verified   \n",
       "3     BAT2428731     C        C3            MORTGAGE     Source Verified   \n",
       "4     BAT5341619     C        D4            MORTGAGE     Source Verified   \n",
       "\n",
       "  Payment Plan               Loan Title Initial List Status Application Type  \n",
       "0            n       Debt Consolidation                   w       INDIVIDUAL  \n",
       "1            n       Debt consolidation                   f       INDIVIDUAL  \n",
       "2            n       Debt Consolidation                   w       INDIVIDUAL  \n",
       "3            n       Debt consolidation                   w       INDIVIDUAL  \n",
       "4            n  Credit card refinancing                   w       INDIVIDUAL  "
      ]
     },
     "execution_count": 12,
     "metadata": {},
     "output_type": "execute_result"
    }
   ],
   "source": [
    "categorical_df.head()"
   ]
  },
  {
   "cell_type": "code",
   "execution_count": 13,
   "id": "a608d930-78eb-448c-b586-e97486bab645",
   "metadata": {
    "tags": []
   },
   "outputs": [],
   "source": [
    "cat_list = categorical_df.columns.to_list()"
   ]
  },
  {
   "cell_type": "code",
   "execution_count": 14,
   "id": "710ab618-e8a6-4faa-85f2-d3a071addd0c",
   "metadata": {
    "tags": []
   },
   "outputs": [
    {
     "name": "stdout",
     "output_type": "stream",
     "text": [
      "Batch Enrolled\n",
      "number of unique values: 41\n",
      "---------------------------------------------------\n",
      "Grade\n",
      "number of unique values: 7\n",
      "---------------------------------------------------\n",
      "Sub Grade\n",
      "number of unique values: 35\n",
      "---------------------------------------------------\n",
      "Employment Duration\n",
      "number of unique values: 3\n",
      "---------------------------------------------------\n",
      "Verification Status\n",
      "number of unique values: 3\n",
      "---------------------------------------------------\n",
      "Payment Plan\n",
      "number of unique values: 1\n",
      "---------------------------------------------------\n",
      "Loan Title\n",
      "number of unique values: 109\n",
      "---------------------------------------------------\n",
      "Initial List Status\n",
      "number of unique values: 2\n",
      "---------------------------------------------------\n",
      "Application Type\n",
      "number of unique values: 2\n",
      "---------------------------------------------------\n"
     ]
    }
   ],
   "source": [
    "for col in cat_list:\n",
    "    print(col)\n",
    "    print(\"number of unique values:\", categorical_df[col].nunique())\n",
    "    print(\"---------------------------------------------------\")"
   ]
  },
  {
   "cell_type": "markdown",
   "id": "54ee6ce8-6ef2-4aac-b34b-422ba67b36ec",
   "metadata": {},
   "source": [
    "**Grade**\n",
    "\n",
    "- A Grade: Low risk, excellent credit.\n",
    "- B Grade: Slightly higher risk, good credit with minor issues.\n",
    "- C Grade: Moderate risk, fair to good credit with some issues.\n",
    "- D Grade: Higher risk, below-average credit with significant issues.\n",
    "- E Grade: Substantial risk, poor credit with major issues.\n",
    "- F Grade: Very high risk, extremely poor credit with defaults.\n",
    "- G Grade: Highest risk, worst credit with bankruptcies.\n",
    "\n",
    "**Initial list status**\n",
    "- w: Indicates that the loan was initially listed as whole.\n",
    "- f: Indicates that the loan was initially listed as fractional.\n",
    "\n",
    "**Appilication Type**\n",
    "- INDIVIDUAL: Indicates that the loan application was submitted by a single individual.\n",
    "- JOINT: Indicates that the loan application was submitted jointly by multiple individuals."
   ]
  },
  {
   "cell_type": "code",
   "execution_count": 15,
   "id": "ca7fcd1a-1379-437f-bfc2-9003c963ee7e",
   "metadata": {
    "tags": []
   },
   "outputs": [
    {
     "data": {
      "text/plain": [
       "array(['B', 'C', 'F', 'A', 'G', 'E', 'D'], dtype=object)"
      ]
     },
     "execution_count": 15,
     "metadata": {},
     "output_type": "execute_result"
    }
   ],
   "source": [
    "categorical_df[\"Grade\"].unique()"
   ]
  },
  {
   "cell_type": "code",
   "execution_count": 16,
   "id": "f6406516-253f-453a-afcf-511d187d2a24",
   "metadata": {
    "tags": []
   },
   "outputs": [
    {
     "data": {
      "text/plain": [
       "array(['C4', 'D3', 'D4', 'C3', 'G5', 'C5', 'A5', 'C2', 'B5', 'B1', 'B4',\n",
       "       'A4', 'B2', 'D2', 'C1', 'F3', 'D1', 'F2', 'A2', 'A3', 'F1', 'E5',\n",
       "       'B3', 'F4', 'G1', 'F5', 'E1', 'E2', 'D5', 'G2', 'E4', 'A1', 'G3',\n",
       "       'E3', 'G4'], dtype=object)"
      ]
     },
     "execution_count": 16,
     "metadata": {},
     "output_type": "execute_result"
    }
   ],
   "source": [
    "categorical_df[\"Sub Grade\"].unique()"
   ]
  },
  {
   "cell_type": "code",
   "execution_count": 17,
   "id": "0124e74e-218d-4a99-99bf-1635718b0e79",
   "metadata": {
    "tags": []
   },
   "outputs": [
    {
     "data": {
      "text/plain": [
       "array(['MORTGAGE', 'RENT', 'OWN'], dtype=object)"
      ]
     },
     "execution_count": 17,
     "metadata": {},
     "output_type": "execute_result"
    }
   ],
   "source": [
    "categorical_df[\"Employment Duration\"].unique()"
   ]
  },
  {
   "cell_type": "code",
   "execution_count": null,
   "id": "f7cfbbaf-a640-4168-bccf-22fa80bc97e0",
   "metadata": {},
   "outputs": [],
   "source": []
  },
  {
   "cell_type": "code",
   "execution_count": 18,
   "id": "4ce7fdce-e18e-43c2-bfb5-eee9bbb1b632",
   "metadata": {
    "tags": []
   },
   "outputs": [
    {
     "data": {
      "text/plain": [
       "array(['Not Verified', 'Source Verified', 'Verified'], dtype=object)"
      ]
     },
     "execution_count": 18,
     "metadata": {},
     "output_type": "execute_result"
    }
   ],
   "source": [
    "categorical_df[\"Verification Status\"].unique()"
   ]
  },
  {
   "cell_type": "code",
   "execution_count": 19,
   "id": "196f46e7-7633-4a97-a5e5-b6c66261aab5",
   "metadata": {
    "tags": []
   },
   "outputs": [
    {
     "data": {
      "text/plain": [
       "array(['n'], dtype=object)"
      ]
     },
     "execution_count": 19,
     "metadata": {},
     "output_type": "execute_result"
    }
   ],
   "source": [
    "categorical_df[\"Payment Plan\"].unique()"
   ]
  },
  {
   "cell_type": "code",
   "execution_count": 20,
   "id": "47caf3b4-315d-4ad0-ae25-e9e388581aaa",
   "metadata": {
    "tags": []
   },
   "outputs": [
    {
     "data": {
      "text/plain": [
       "Loan Title\n",
       "Credit card refinancing    30728\n",
       "Debt consolidation         24841\n",
       "Debt Consolidation          3544\n",
       "Other                       2455\n",
       "Home improvement            2211\n",
       "                           ...  \n",
       "Home loan                      6\n",
       "Personal loan                  5\n",
       "Getting Ahead                  5\n",
       "Credit                         4\n",
       "bills                          4\n",
       "Name: count, Length: 109, dtype: int64"
      ]
     },
     "execution_count": 20,
     "metadata": {},
     "output_type": "execute_result"
    }
   ],
   "source": [
    "categorical_df[\"Loan Title\"].value_counts()"
   ]
  },
  {
   "cell_type": "code",
   "execution_count": 21,
   "id": "d362738f-4145-4e81-9fba-f973c8582a89",
   "metadata": {
    "tags": []
   },
   "outputs": [
    {
     "data": {
      "text/plain": [
       "array(['w', 'f'], dtype=object)"
      ]
     },
     "execution_count": 21,
     "metadata": {},
     "output_type": "execute_result"
    }
   ],
   "source": [
    "categorical_df[\"Initial List Status\"].unique()"
   ]
  },
  {
   "cell_type": "code",
   "execution_count": 22,
   "id": "cc17d07c-ab3f-4f46-a681-419817fa04b3",
   "metadata": {
    "tags": []
   },
   "outputs": [
    {
     "data": {
      "text/plain": [
       "array(['INDIVIDUAL', 'JOINT'], dtype=object)"
      ]
     },
     "execution_count": 22,
     "metadata": {},
     "output_type": "execute_result"
    }
   ],
   "source": [
    "categorical_df[\"Application Type\"].unique()"
   ]
  },
  {
   "cell_type": "code",
   "execution_count": null,
   "id": "4b387b49-90a4-4899-8d14-ecb38778a1e2",
   "metadata": {},
   "outputs": [],
   "source": []
  },
  {
   "cell_type": "markdown",
   "id": "e6337d79-8c90-4ce2-b2d5-cabf719be62c",
   "metadata": {},
   "source": [
    "**Ordinal categorical features are**:\n",
    "- Grade\n",
    "- Sub grade\n",
    "- verification status\n",
    "\n",
    "**Features to drop**\n",
    "- payment plan\n",
    "- Batch entrolled\n",
    "\n",
    "**Feature to engineer**\n",
    "- Loan title\n",
    "\n",
    "**Mismatch between Employment duration and home ownership**"
   ]
  },
  {
   "cell_type": "code",
   "execution_count": null,
   "id": "ba88c077-ac9a-4392-8a25-c57e5ed02d5a",
   "metadata": {},
   "outputs": [],
   "source": []
  },
  {
   "cell_type": "markdown",
   "id": "405319ae-1cbe-4d5e-85fb-95493fadff34",
   "metadata": {},
   "source": [
    "**Drop redundant categorical features**"
   ]
  },
  {
   "cell_type": "code",
   "execution_count": 23,
   "id": "7b3427f7-79a2-489f-9be3-06b4da26d3ca",
   "metadata": {
    "tags": []
   },
   "outputs": [
    {
     "data": {
      "text/html": [
       "<div>\n",
       "<style scoped>\n",
       "    .dataframe tbody tr th:only-of-type {\n",
       "        vertical-align: middle;\n",
       "    }\n",
       "\n",
       "    .dataframe tbody tr th {\n",
       "        vertical-align: top;\n",
       "    }\n",
       "\n",
       "    .dataframe thead th {\n",
       "        text-align: right;\n",
       "    }\n",
       "</style>\n",
       "<table border=\"1\" class=\"dataframe\">\n",
       "  <thead>\n",
       "    <tr style=\"text-align: right;\">\n",
       "      <th></th>\n",
       "      <th>Batch Enrolled</th>\n",
       "      <th>Grade</th>\n",
       "      <th>Sub Grade</th>\n",
       "      <th>Employment Duration</th>\n",
       "      <th>Verification Status</th>\n",
       "      <th>Payment Plan</th>\n",
       "      <th>Loan Title</th>\n",
       "      <th>Initial List Status</th>\n",
       "      <th>Application Type</th>\n",
       "    </tr>\n",
       "  </thead>\n",
       "  <tbody>\n",
       "    <tr>\n",
       "      <th>0</th>\n",
       "      <td>BAT2522922</td>\n",
       "      <td>B</td>\n",
       "      <td>C4</td>\n",
       "      <td>MORTGAGE</td>\n",
       "      <td>Not Verified</td>\n",
       "      <td>n</td>\n",
       "      <td>Debt Consolidation</td>\n",
       "      <td>w</td>\n",
       "      <td>INDIVIDUAL</td>\n",
       "    </tr>\n",
       "    <tr>\n",
       "      <th>1</th>\n",
       "      <td>BAT1586599</td>\n",
       "      <td>C</td>\n",
       "      <td>D3</td>\n",
       "      <td>RENT</td>\n",
       "      <td>Source Verified</td>\n",
       "      <td>n</td>\n",
       "      <td>Debt consolidation</td>\n",
       "      <td>f</td>\n",
       "      <td>INDIVIDUAL</td>\n",
       "    </tr>\n",
       "  </tbody>\n",
       "</table>\n",
       "</div>"
      ],
      "text/plain": [
       "  Batch Enrolled Grade Sub Grade Employment Duration Verification Status  \\\n",
       "0     BAT2522922     B        C4            MORTGAGE        Not Verified   \n",
       "1     BAT1586599     C        D3                RENT     Source Verified   \n",
       "\n",
       "  Payment Plan          Loan Title Initial List Status Application Type  \n",
       "0            n  Debt Consolidation                   w       INDIVIDUAL  \n",
       "1            n  Debt consolidation                   f       INDIVIDUAL  "
      ]
     },
     "execution_count": 23,
     "metadata": {},
     "output_type": "execute_result"
    }
   ],
   "source": [
    "categorical_df.head(2)"
   ]
  },
  {
   "cell_type": "code",
   "execution_count": 24,
   "id": "d22723f7-1f8d-47c5-b395-935b1fdd4d24",
   "metadata": {
    "tags": []
   },
   "outputs": [],
   "source": [
    "categorical_df = categorical_df.drop([\"Batch Enrolled\", \"Payment Plan\"], axis =1)"
   ]
  },
  {
   "cell_type": "code",
   "execution_count": 25,
   "id": "b3b719b5-c41f-4ef3-b8d3-dc5523760a25",
   "metadata": {
    "tags": []
   },
   "outputs": [
    {
     "data": {
      "text/html": [
       "<div>\n",
       "<style scoped>\n",
       "    .dataframe tbody tr th:only-of-type {\n",
       "        vertical-align: middle;\n",
       "    }\n",
       "\n",
       "    .dataframe tbody tr th {\n",
       "        vertical-align: top;\n",
       "    }\n",
       "\n",
       "    .dataframe thead th {\n",
       "        text-align: right;\n",
       "    }\n",
       "</style>\n",
       "<table border=\"1\" class=\"dataframe\">\n",
       "  <thead>\n",
       "    <tr style=\"text-align: right;\">\n",
       "      <th></th>\n",
       "      <th>Grade</th>\n",
       "      <th>Sub Grade</th>\n",
       "      <th>Employment Duration</th>\n",
       "      <th>Verification Status</th>\n",
       "      <th>Loan Title</th>\n",
       "      <th>Initial List Status</th>\n",
       "      <th>Application Type</th>\n",
       "    </tr>\n",
       "  </thead>\n",
       "  <tbody>\n",
       "    <tr>\n",
       "      <th>0</th>\n",
       "      <td>B</td>\n",
       "      <td>C4</td>\n",
       "      <td>MORTGAGE</td>\n",
       "      <td>Not Verified</td>\n",
       "      <td>Debt Consolidation</td>\n",
       "      <td>w</td>\n",
       "      <td>INDIVIDUAL</td>\n",
       "    </tr>\n",
       "    <tr>\n",
       "      <th>1</th>\n",
       "      <td>C</td>\n",
       "      <td>D3</td>\n",
       "      <td>RENT</td>\n",
       "      <td>Source Verified</td>\n",
       "      <td>Debt consolidation</td>\n",
       "      <td>f</td>\n",
       "      <td>INDIVIDUAL</td>\n",
       "    </tr>\n",
       "  </tbody>\n",
       "</table>\n",
       "</div>"
      ],
      "text/plain": [
       "  Grade Sub Grade Employment Duration Verification Status          Loan Title  \\\n",
       "0     B        C4            MORTGAGE        Not Verified  Debt Consolidation   \n",
       "1     C        D3                RENT     Source Verified  Debt consolidation   \n",
       "\n",
       "  Initial List Status Application Type  \n",
       "0                   w       INDIVIDUAL  \n",
       "1                   f       INDIVIDUAL  "
      ]
     },
     "execution_count": 25,
     "metadata": {},
     "output_type": "execute_result"
    }
   ],
   "source": [
    "categorical_df.head(2)"
   ]
  },
  {
   "cell_type": "code",
   "execution_count": null,
   "id": "b552f72f-f2b8-4dfe-87f5-5b495772a833",
   "metadata": {},
   "outputs": [],
   "source": []
  },
  {
   "cell_type": "markdown",
   "id": "94653bc3-7615-4192-a856-9f8775a9a12e",
   "metadata": {},
   "source": [
    "**Engineer Loan Title**"
   ]
  },
  {
   "cell_type": "code",
   "execution_count": 26,
   "id": "2117dc38-344c-4638-a599-1f1cf562f8c1",
   "metadata": {
    "tags": []
   },
   "outputs": [],
   "source": [
    "# convert it to all lower case\n",
    "\n",
    "categorical_df[\"Loan Title\"] = categorical_df[\"Loan Title\"].str.lower()"
   ]
  },
  {
   "cell_type": "code",
   "execution_count": 27,
   "id": "47de1cbb-c4fe-4051-b79d-12507dc2052d",
   "metadata": {
    "tags": []
   },
   "outputs": [
    {
     "data": {
      "text/plain": [
       "83"
      ]
     },
     "execution_count": 27,
     "metadata": {},
     "output_type": "execute_result"
    }
   ],
   "source": [
    "categorical_df[\"Loan Title\"].nunique()"
   ]
  },
  {
   "cell_type": "code",
   "execution_count": 28,
   "id": "72672075-fe51-42d4-8f91-e8dd5619511f",
   "metadata": {
    "tags": []
   },
   "outputs": [],
   "source": [
    "mapping = {\n",
    "    'debt consolidation': 'debt consolidation', 'consolidate': 'debt consolidation','consolidation loan': 'debt consolidation','dept consolidation': 'debt consolidation',\n",
    "    'conso': 'debt consolidation','debt consolidation 2013': 'debt consolidation','debt loan': 'debt consolidation','dept consolidation': 'debt consolidation',\n",
    "    'consolidated': 'debt consolidation','get out of debt': 'debt consolidation','debt reduction': 'debt consolidation','debt payoff': 'debt consolidation',\n",
    "    'debt free': 'debt consolidation',\n",
    "\n",
    "    'credit card refinancing': 'credit card refinance','cc refi': 'credit card refinance','cc refinance': 'credit card refinance','cc-refinance': 'credit card refinance',\n",
    "    'credit card consolidation': 'credit card refinance','cc consolidation': 'credit card refinance','credit card refi': 'credit card refinance',\n",
    "    'credit card refinance': 'credit card refinance','credit card refinance loan': 'credit card refinance','cc loan': 'credit card refinance',\n",
    "    'credit card payoff': 'credit card','credit cards': 'credit card','cards': 'credit card','cc': 'credit card','credit card paydown': 'credit card',\n",
    "    'credit card pay off': 'credit card','credit card debt': 'credit card','credit card loan': 'credit card','credit card pay off': 'credit card',\n",
    "\n",
    "    'home improvement': 'home improvement','bathroom': 'home improvement','home improvement loan': 'home improvement',\n",
    "    'green loan': 'green loan','other': 'other', 'moving and relocation': 'moving and relocation','medical expenses': 'medical','medical loan': 'medical',\n",
    "    'refinance': 'refinance','refi': 'refinance','refinance loan': 'refinance','personal loan': 'personal','personal': 'personal','myloan': 'personal','my loan': 'personal',\n",
    "    'major purchase': 'major purchase','vacation': 'vacation','business': 'business','loan 1': 'loan','loan': 'loan','loan1': 'loan','loan consolidation': 'loan',\n",
    "    'car financing': 'car financing','car loan': 'car financing',\n",
    "\n",
    "    'home buying': 'home buying','home': 'home buying','home loan': 'home buying','freedom': 'freedom','get debt free': 'freedom',\n",
    "    'payoff': 'payoff','pay off': 'payoff','pay off bills': 'payoff','bill consolidation': 'payoff','bill payoff': 'payoff','credit payoff': 'payoff','pool': 'pool',\n",
    "    'wedding loan': 'wedding loan','relief': 'relief','getting ahead': 'relief','cc': 'credit card',\n",
    "\n",
    "    'consolidation': 'consolidation','card consolidation': 'consolidation','consolidation loan': 'consolidation','consolidated': 'consolidation','bills': 'bills','conso': 'conso'\n",
    "}"
   ]
  },
  {
   "cell_type": "code",
   "execution_count": 29,
   "id": "ec045e48-dfc3-4d02-afa1-26d6f569c073",
   "metadata": {
    "tags": []
   },
   "outputs": [],
   "source": [
    "categorical_df[\"Loan Title\"] = categorical_df[\"Loan Title\"].map(lambda x: mapping.get(x, x))"
   ]
  },
  {
   "cell_type": "code",
   "execution_count": 30,
   "id": "7c3a058e-9c9b-4c8c-b79e-f51818f1d855",
   "metadata": {
    "tags": []
   },
   "outputs": [
    {
     "data": {
      "text/plain": [
       "33"
      ]
     },
     "execution_count": 30,
     "metadata": {},
     "output_type": "execute_result"
    }
   ],
   "source": [
    "categorical_df[\"Loan Title\"].nunique()"
   ]
  },
  {
   "cell_type": "code",
   "execution_count": 31,
   "id": "16d48879-2cae-4344-8db5-e57ad98248d7",
   "metadata": {
    "tags": []
   },
   "outputs": [
    {
     "data": {
      "text/html": [
       "<div>\n",
       "<style scoped>\n",
       "    .dataframe tbody tr th:only-of-type {\n",
       "        vertical-align: middle;\n",
       "    }\n",
       "\n",
       "    .dataframe tbody tr th {\n",
       "        vertical-align: top;\n",
       "    }\n",
       "\n",
       "    .dataframe thead th {\n",
       "        text-align: right;\n",
       "    }\n",
       "</style>\n",
       "<table border=\"1\" class=\"dataframe\">\n",
       "  <thead>\n",
       "    <tr style=\"text-align: right;\">\n",
       "      <th></th>\n",
       "      <th>Grade</th>\n",
       "      <th>Sub Grade</th>\n",
       "      <th>Employment Duration</th>\n",
       "      <th>Verification Status</th>\n",
       "      <th>Loan Title</th>\n",
       "      <th>Initial List Status</th>\n",
       "      <th>Application Type</th>\n",
       "    </tr>\n",
       "  </thead>\n",
       "  <tbody>\n",
       "    <tr>\n",
       "      <th>0</th>\n",
       "      <td>B</td>\n",
       "      <td>C4</td>\n",
       "      <td>MORTGAGE</td>\n",
       "      <td>Not Verified</td>\n",
       "      <td>debt consolidation</td>\n",
       "      <td>w</td>\n",
       "      <td>INDIVIDUAL</td>\n",
       "    </tr>\n",
       "    <tr>\n",
       "      <th>1</th>\n",
       "      <td>C</td>\n",
       "      <td>D3</td>\n",
       "      <td>RENT</td>\n",
       "      <td>Source Verified</td>\n",
       "      <td>debt consolidation</td>\n",
       "      <td>f</td>\n",
       "      <td>INDIVIDUAL</td>\n",
       "    </tr>\n",
       "    <tr>\n",
       "      <th>2</th>\n",
       "      <td>F</td>\n",
       "      <td>D4</td>\n",
       "      <td>MORTGAGE</td>\n",
       "      <td>Source Verified</td>\n",
       "      <td>debt consolidation</td>\n",
       "      <td>w</td>\n",
       "      <td>INDIVIDUAL</td>\n",
       "    </tr>\n",
       "    <tr>\n",
       "      <th>3</th>\n",
       "      <td>C</td>\n",
       "      <td>C3</td>\n",
       "      <td>MORTGAGE</td>\n",
       "      <td>Source Verified</td>\n",
       "      <td>debt consolidation</td>\n",
       "      <td>w</td>\n",
       "      <td>INDIVIDUAL</td>\n",
       "    </tr>\n",
       "    <tr>\n",
       "      <th>4</th>\n",
       "      <td>C</td>\n",
       "      <td>D4</td>\n",
       "      <td>MORTGAGE</td>\n",
       "      <td>Source Verified</td>\n",
       "      <td>credit card refinance</td>\n",
       "      <td>w</td>\n",
       "      <td>INDIVIDUAL</td>\n",
       "    </tr>\n",
       "  </tbody>\n",
       "</table>\n",
       "</div>"
      ],
      "text/plain": [
       "  Grade Sub Grade Employment Duration Verification Status  \\\n",
       "0     B        C4            MORTGAGE        Not Verified   \n",
       "1     C        D3                RENT     Source Verified   \n",
       "2     F        D4            MORTGAGE     Source Verified   \n",
       "3     C        C3            MORTGAGE     Source Verified   \n",
       "4     C        D4            MORTGAGE     Source Verified   \n",
       "\n",
       "              Loan Title Initial List Status Application Type  \n",
       "0     debt consolidation                   w       INDIVIDUAL  \n",
       "1     debt consolidation                   f       INDIVIDUAL  \n",
       "2     debt consolidation                   w       INDIVIDUAL  \n",
       "3     debt consolidation                   w       INDIVIDUAL  \n",
       "4  credit card refinance                   w       INDIVIDUAL  "
      ]
     },
     "execution_count": 31,
     "metadata": {},
     "output_type": "execute_result"
    }
   ],
   "source": [
    "categorical_df.head()"
   ]
  },
  {
   "cell_type": "code",
   "execution_count": null,
   "id": "fd0ea341-93bd-4e99-9489-b36b05cb502b",
   "metadata": {},
   "outputs": [],
   "source": []
  },
  {
   "cell_type": "code",
   "execution_count": null,
   "id": "084a7076-3d60-466d-ab4a-70dbd080b76a",
   "metadata": {},
   "outputs": [],
   "source": []
  },
  {
   "cell_type": "markdown",
   "id": "d984f008-a494-4cba-9bff-4b7944ccb0c0",
   "metadata": {},
   "source": [
    "# Concat numerical and categorical dataframe"
   ]
  },
  {
   "cell_type": "code",
   "execution_count": 32,
   "id": "b3a9c6d1-3815-432a-9edc-920ed21bb0ff",
   "metadata": {
    "tags": []
   },
   "outputs": [],
   "source": [
    "combinded_df = pd.concat([numerical_df, categorical_df], axis =1)"
   ]
  },
  {
   "cell_type": "code",
   "execution_count": 33,
   "id": "20a1b787-86d6-4688-947c-d5e457a68640",
   "metadata": {
    "tags": []
   },
   "outputs": [
    {
     "data": {
      "text/html": [
       "<div>\n",
       "<style scoped>\n",
       "    .dataframe tbody tr th:only-of-type {\n",
       "        vertical-align: middle;\n",
       "    }\n",
       "\n",
       "    .dataframe tbody tr th {\n",
       "        vertical-align: top;\n",
       "    }\n",
       "\n",
       "    .dataframe thead th {\n",
       "        text-align: right;\n",
       "    }\n",
       "</style>\n",
       "<table border=\"1\" class=\"dataframe\">\n",
       "  <thead>\n",
       "    <tr style=\"text-align: right;\">\n",
       "      <th></th>\n",
       "      <th>Loan Amount</th>\n",
       "      <th>Funded Amount</th>\n",
       "      <th>Funded Amount Investor</th>\n",
       "      <th>Term</th>\n",
       "      <th>Interest Rate</th>\n",
       "      <th>Home Ownership</th>\n",
       "      <th>Debit to Income</th>\n",
       "      <th>Delinquency - two years</th>\n",
       "      <th>Inquires - six months</th>\n",
       "      <th>Open Account</th>\n",
       "      <th>...</th>\n",
       "      <th>Total Current Balance</th>\n",
       "      <th>Total Revolving Credit Limit</th>\n",
       "      <th>Loan Status</th>\n",
       "      <th>Grade</th>\n",
       "      <th>Sub Grade</th>\n",
       "      <th>Employment Duration</th>\n",
       "      <th>Verification Status</th>\n",
       "      <th>Loan Title</th>\n",
       "      <th>Initial List Status</th>\n",
       "      <th>Application Type</th>\n",
       "    </tr>\n",
       "  </thead>\n",
       "  <tbody>\n",
       "    <tr>\n",
       "      <th>0</th>\n",
       "      <td>10000</td>\n",
       "      <td>32236</td>\n",
       "      <td>12329.36</td>\n",
       "      <td>59</td>\n",
       "      <td>11.14</td>\n",
       "      <td>176346.63</td>\n",
       "      <td>16.28</td>\n",
       "      <td>1</td>\n",
       "      <td>0</td>\n",
       "      <td>13</td>\n",
       "      <td>...</td>\n",
       "      <td>311301</td>\n",
       "      <td>6619</td>\n",
       "      <td>0</td>\n",
       "      <td>B</td>\n",
       "      <td>C4</td>\n",
       "      <td>MORTGAGE</td>\n",
       "      <td>Not Verified</td>\n",
       "      <td>debt consolidation</td>\n",
       "      <td>w</td>\n",
       "      <td>INDIVIDUAL</td>\n",
       "    </tr>\n",
       "    <tr>\n",
       "      <th>1</th>\n",
       "      <td>3609</td>\n",
       "      <td>11940</td>\n",
       "      <td>12192.00</td>\n",
       "      <td>59</td>\n",
       "      <td>12.24</td>\n",
       "      <td>39833.92</td>\n",
       "      <td>15.41</td>\n",
       "      <td>0</td>\n",
       "      <td>0</td>\n",
       "      <td>12</td>\n",
       "      <td>...</td>\n",
       "      <td>182610</td>\n",
       "      <td>20885</td>\n",
       "      <td>0</td>\n",
       "      <td>C</td>\n",
       "      <td>D3</td>\n",
       "      <td>RENT</td>\n",
       "      <td>Source Verified</td>\n",
       "      <td>debt consolidation</td>\n",
       "      <td>f</td>\n",
       "      <td>INDIVIDUAL</td>\n",
       "    </tr>\n",
       "    <tr>\n",
       "      <th>2</th>\n",
       "      <td>28276</td>\n",
       "      <td>9311</td>\n",
       "      <td>21603.22</td>\n",
       "      <td>59</td>\n",
       "      <td>12.55</td>\n",
       "      <td>91506.69</td>\n",
       "      <td>28.14</td>\n",
       "      <td>0</td>\n",
       "      <td>0</td>\n",
       "      <td>14</td>\n",
       "      <td>...</td>\n",
       "      <td>89801</td>\n",
       "      <td>26155</td>\n",
       "      <td>0</td>\n",
       "      <td>F</td>\n",
       "      <td>D4</td>\n",
       "      <td>MORTGAGE</td>\n",
       "      <td>Source Verified</td>\n",
       "      <td>debt consolidation</td>\n",
       "      <td>w</td>\n",
       "      <td>INDIVIDUAL</td>\n",
       "    </tr>\n",
       "    <tr>\n",
       "      <th>3</th>\n",
       "      <td>11170</td>\n",
       "      <td>6954</td>\n",
       "      <td>17877.16</td>\n",
       "      <td>59</td>\n",
       "      <td>16.73</td>\n",
       "      <td>108286.58</td>\n",
       "      <td>18.04</td>\n",
       "      <td>1</td>\n",
       "      <td>0</td>\n",
       "      <td>7</td>\n",
       "      <td>...</td>\n",
       "      <td>9189</td>\n",
       "      <td>60214</td>\n",
       "      <td>0</td>\n",
       "      <td>C</td>\n",
       "      <td>C3</td>\n",
       "      <td>MORTGAGE</td>\n",
       "      <td>Source Verified</td>\n",
       "      <td>debt consolidation</td>\n",
       "      <td>w</td>\n",
       "      <td>INDIVIDUAL</td>\n",
       "    </tr>\n",
       "    <tr>\n",
       "      <th>4</th>\n",
       "      <td>16890</td>\n",
       "      <td>13226</td>\n",
       "      <td>13539.93</td>\n",
       "      <td>59</td>\n",
       "      <td>15.01</td>\n",
       "      <td>44234.83</td>\n",
       "      <td>17.21</td>\n",
       "      <td>1</td>\n",
       "      <td>3</td>\n",
       "      <td>13</td>\n",
       "      <td>...</td>\n",
       "      <td>126029</td>\n",
       "      <td>22579</td>\n",
       "      <td>0</td>\n",
       "      <td>C</td>\n",
       "      <td>D4</td>\n",
       "      <td>MORTGAGE</td>\n",
       "      <td>Source Verified</td>\n",
       "      <td>credit card refinance</td>\n",
       "      <td>w</td>\n",
       "      <td>INDIVIDUAL</td>\n",
       "    </tr>\n",
       "  </tbody>\n",
       "</table>\n",
       "<p>5 rows × 31 columns</p>\n",
       "</div>"
      ],
      "text/plain": [
       "   Loan Amount  Funded Amount  Funded Amount Investor  Term  Interest Rate  \\\n",
       "0        10000          32236                12329.36    59          11.14   \n",
       "1         3609          11940                12192.00    59          12.24   \n",
       "2        28276           9311                21603.22    59          12.55   \n",
       "3        11170           6954                17877.16    59          16.73   \n",
       "4        16890          13226                13539.93    59          15.01   \n",
       "\n",
       "   Home Ownership  Debit to Income  Delinquency - two years  \\\n",
       "0       176346.63            16.28                        1   \n",
       "1        39833.92            15.41                        0   \n",
       "2        91506.69            28.14                        0   \n",
       "3       108286.58            18.04                        1   \n",
       "4        44234.83            17.21                        1   \n",
       "\n",
       "   Inquires - six months  Open Account  ...  Total Current Balance  \\\n",
       "0                      0            13  ...                 311301   \n",
       "1                      0            12  ...                 182610   \n",
       "2                      0            14  ...                  89801   \n",
       "3                      0             7  ...                   9189   \n",
       "4                      3            13  ...                 126029   \n",
       "\n",
       "   Total Revolving Credit Limit  Loan Status  Grade  Sub Grade  \\\n",
       "0                          6619            0      B         C4   \n",
       "1                         20885            0      C         D3   \n",
       "2                         26155            0      F         D4   \n",
       "3                         60214            0      C         C3   \n",
       "4                         22579            0      C         D4   \n",
       "\n",
       "   Employment Duration  Verification Status             Loan Title  \\\n",
       "0             MORTGAGE         Not Verified     debt consolidation   \n",
       "1                 RENT      Source Verified     debt consolidation   \n",
       "2             MORTGAGE      Source Verified     debt consolidation   \n",
       "3             MORTGAGE      Source Verified     debt consolidation   \n",
       "4             MORTGAGE      Source Verified  credit card refinance   \n",
       "\n",
       "   Initial List Status  Application Type  \n",
       "0                    w        INDIVIDUAL  \n",
       "1                    f        INDIVIDUAL  \n",
       "2                    w        INDIVIDUAL  \n",
       "3                    w        INDIVIDUAL  \n",
       "4                    w        INDIVIDUAL  \n",
       "\n",
       "[5 rows x 31 columns]"
      ]
     },
     "execution_count": 33,
     "metadata": {},
     "output_type": "execute_result"
    }
   ],
   "source": [
    "combinded_df.head()"
   ]
  },
  {
   "cell_type": "code",
   "execution_count": null,
   "id": "55219696-e735-4a3f-91cf-279bba9951cc",
   "metadata": {},
   "outputs": [],
   "source": []
  },
  {
   "cell_type": "code",
   "execution_count": null,
   "id": "05aaefb5-7026-4695-88ef-962ca075566f",
   "metadata": {},
   "outputs": [],
   "source": []
  },
  {
   "cell_type": "markdown",
   "id": "08785bc1-1ee2-4cfd-b013-3719d512cfb4",
   "metadata": {},
   "source": [
    "**Rename Employment Duration and home ownership**"
   ]
  },
  {
   "cell_type": "code",
   "execution_count": 34,
   "id": "dc155797-3032-46db-bdd7-e4ac539ced9d",
   "metadata": {},
   "outputs": [],
   "source": [
    "combinded_df.rename(columns={\"Home Ownership\": \"Employment_Duration\"}, inplace= True)\n",
    "combinded_df.rename(columns={\"Employment Duration\": \"Home_Ownership\"}, inplace= True)"
   ]
  },
  {
   "cell_type": "code",
   "execution_count": 37,
   "id": "02671da9-380d-41df-8b9b-be5ab68e9eda",
   "metadata": {
    "tags": []
   },
   "outputs": [
    {
     "data": {
      "text/plain": [
       "Index(['Loan Amount', 'Funded Amount', 'Funded Amount Investor', 'Term',\n",
       "       'Interest Rate', 'Employment_Duration', 'Debit to Income',\n",
       "       'Delinquency - two years', 'Inquires - six months', 'Open Account',\n",
       "       'Public Record', 'Revolving Balance', 'Revolving Utilities',\n",
       "       'Total Accounts', 'Total Received Interest', 'Total Received Late Fee',\n",
       "       'Recoveries', 'Collection Recovery Fee', 'Collection 12 months Medical',\n",
       "       'Last week Pay', 'Total Collection Amount', 'Total Current Balance',\n",
       "       'Total Revolving Credit Limit', 'Loan Status', 'Grade', 'Sub Grade',\n",
       "       'Home_Ownership', 'Verification Status', 'Loan Title',\n",
       "       'Initial List Status', 'Application Type'],\n",
       "      dtype='object')"
      ]
     },
     "execution_count": 37,
     "metadata": {},
     "output_type": "execute_result"
    }
   ],
   "source": [
    "combinded_df.columns"
   ]
  },
  {
   "cell_type": "markdown",
   "id": "eabe0bee-41f8-4621-8026-c461b2329a46",
   "metadata": {},
   "source": [
    "# Save clean data"
   ]
  },
  {
   "cell_type": "code",
   "execution_count": 36,
   "id": "cddcdd49-f271-4d24-a447-d15de5e7795b",
   "metadata": {
    "tags": []
   },
   "outputs": [],
   "source": [
    "combinded_df.to_csv(\"Clean_data.csv\", index = False)"
   ]
  },
  {
   "cell_type": "code",
   "execution_count": null,
   "id": "e71a57b0-65c1-4594-9821-6441009a1324",
   "metadata": {},
   "outputs": [],
   "source": []
  }
 ],
 "metadata": {
  "kernelspec": {
   "display_name": "Python 3 (ipykernel)",
   "language": "python",
   "name": "python3"
  },
  "language_info": {
   "codemirror_mode": {
    "name": "ipython",
    "version": 3
   },
   "file_extension": ".py",
   "mimetype": "text/x-python",
   "name": "python",
   "nbconvert_exporter": "python",
   "pygments_lexer": "ipython3",
   "version": "3.11.5"
  }
 },
 "nbformat": 4,
 "nbformat_minor": 5
}
